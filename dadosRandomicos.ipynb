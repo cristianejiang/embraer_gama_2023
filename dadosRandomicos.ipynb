{
 "cells": [
  {
   "cell_type": "code",
   "execution_count": 1,
   "metadata": {},
   "outputs": [],
   "source": [
    "# pip install mysql-connector-python"
   ]
  },
  {
   "cell_type": "code",
   "execution_count": 2,
   "metadata": {},
   "outputs": [],
   "source": [
    "import mysql.connector\n",
    "from random import choice, randint"
   ]
  },
  {
   "cell_type": "code",
   "execution_count": 3,
   "metadata": {},
   "outputs": [],
   "source": [
    "db_config = {\n",
    "    'host': 'localhost',\n",
    "    'user': 'root',\n",
    "    'password': 'mysql',\n",
    "    'database': 'embraer'\n",
    "}"
   ]
  },
  {
   "cell_type": "code",
   "execution_count": 4,
   "metadata": {},
   "outputs": [],
   "source": [
    "conn = mysql.connector.connect(**db_config)\n",
    "cursor = conn.cursor()\n",
    "\n",
    "create_table_query = \"\"\"\n",
    "    CREATE TABLE IF NOT EXISTS dados_aleatorios (\n",
    "        id INT AUTO_INCREMENT PRIMARY KEY,\n",
    "        nome VARCHAR(50),\n",
    "        idade INT,\n",
    "        cidade VARCHAR(50)\n",
    "    );\n",
    "\"\"\"\n",
    "\n",
    "cursor.execute(create_table_query)\n",
    "conn.commit()"
   ]
  },
  {
   "cell_type": "code",
   "execution_count": 5,
   "metadata": {},
   "outputs": [],
   "source": [
    "nomes = ['Alice', 'Bob', 'Charlie', 'David', 'Emma', 'Frank', 'Grace', 'Hank']\n",
    "cidades = ['Nova York', 'Los Angeles', 'Chicago', 'Houston', 'Phoenix', 'Filadélfia']\n",
    "\n",
    "for _ in range(2000):\n",
    "    nome = choice(nomes)\n",
    "    idade = randint(18, 99)\n",
    "    cidade = choice(cidades)\n",
    "\n",
    "    insert_query = \"INSERT INTO dados_aleatorios (nome, idade, cidade) VALUES (%s, %s, %s)\"\n",
    "    data = (nome, idade, cidade)\n",
    "    cursor.execute(insert_query, data)\n",
    "\n",
    "conn.commit()\n",
    "\n",
    "cursor.close()\n",
    "conn.close()"
   ]
  },
  {
   "cell_type": "code",
   "execution_count": null,
   "metadata": {},
   "outputs": [],
   "source": [
    "# para pegar dados aleatorios do Mysql (melhor colocar em outro arquivo)"
   ]
  },
  {
   "cell_type": "code",
   "execution_count": 6,
   "metadata": {},
   "outputs": [
    {
     "name": "stdout",
     "output_type": "stream",
     "text": [
      "        id   nome  idade       cidade\n",
      "0        1  Frank     53  Los Angeles\n",
      "1        2   Hank     26  Los Angeles\n",
      "2        3  Frank     65    Nova York\n",
      "3        4    Bob     48      Chicago\n",
      "4        5   Emma     51      Houston\n",
      "...    ...    ...    ...          ...\n",
      "3995  3996   Hank     84      Houston\n",
      "3996  3997  Grace     35  Los Angeles\n",
      "3997  3998  David     43      Chicago\n",
      "3998  3999  Alice     89      Houston\n",
      "3999  4000   Hank     63      Phoenix\n",
      "\n",
      "[4000 rows x 4 columns]\n"
     ]
    },
    {
     "name": "stderr",
     "output_type": "stream",
     "text": [
      "C:\\Users\\user\\AppData\\Local\\Temp\\ipykernel_9372\\2755430388.py:13: UserWarning: pandas only supports SQLAlchemy connectable (engine/connection) or database string URI or sqlite3 DBAPI2 connection. Other DBAPI2 objects are not tested. Please consider using SQLAlchemy.\n",
      "  df = pd.read_sql(select_query,conn)\n"
     ]
    }
   ],
   "source": [
    "import mysql.connector\n",
    "import pandas as pd\n",
    "\n",
    "db_config = {\n",
    "    'host': 'localhost',\n",
    "    'user': 'root',\n",
    "    'password': 'mysql',\n",
    "    'database': 'embraer'\n",
    "}\n",
    "\n",
    "conn = mysql.connector.connect(**db_config)\n",
    "select_query = \"SELECT * FROM dados_aleatorios\"\n",
    "df = pd.read_sql(select_query,conn)\n",
    "\n",
    "conn.close()\n",
    "\n",
    "print(df)"
   ]
  }
 ],
 "metadata": {
  "kernelspec": {
   "display_name": "Python 3",
   "language": "python",
   "name": "python3"
  },
  "language_info": {
   "codemirror_mode": {
    "name": "ipython",
    "version": 3
   },
   "file_extension": ".py",
   "mimetype": "text/x-python",
   "name": "python",
   "nbconvert_exporter": "python",
   "pygments_lexer": "ipython3",
   "version": "3.12.0"
  }
 },
 "nbformat": 4,
 "nbformat_minor": 2
}
