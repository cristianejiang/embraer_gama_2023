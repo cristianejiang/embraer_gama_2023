{
 "cells": [
  {
   "cell_type": "code",
   "execution_count": 1,
   "metadata": {},
   "outputs": [],
   "source": [
    "import mysql.connector"
   ]
  },
  {
   "cell_type": "code",
   "execution_count": 2,
   "metadata": {},
   "outputs": [],
   "source": [
    "import pandas as pd"
   ]
  },
  {
   "cell_type": "code",
   "execution_count": 3,
   "metadata": {},
   "outputs": [],
   "source": [
    "conexao = mysql.connector.connect(\n",
    "    host='localhost',\n",
    "    user='root',\n",
    "    password='mysql',\n",
    "    database='embraer',\n",
    ")"
   ]
  },
  {
   "cell_type": "code",
   "execution_count": 4,
   "metadata": {},
   "outputs": [],
   "source": [
    "#abrir uma conexao com banco de dados\n",
    "cursor = conexao.cursor()"
   ]
  },
  {
   "cell_type": "code",
   "execution_count": 6,
   "metadata": {},
   "outputs": [],
   "source": [
    "#nome da tabela destino \n",
    "nome_tabela = 'teamusa'\n",
    "consulta_sql = f'SELECT * FROM {nome_tabela}'\n",
    "cursor.execute(consulta_sql) #executando o script do sql"
   ]
  },
  {
   "cell_type": "code",
   "execution_count": 7,
   "metadata": {},
   "outputs": [
    {
     "name": "stdout",
     "output_type": "stream",
     "text": [
      "                 name team pos    salary  start_year  end_year  years\n",
      "0     Clayton Kershaw  LAD  SP  33000000        2014      2020      7\n",
      "1        Zack Greinke  ARI  SP  31876966        2016      2021      6\n",
      "2         David Price  BOS  SP  30000000        2016      2022      7\n",
      "3      Miguel Cabrera  DET  1B  28000000        2014      2023     10\n",
      "4    Justin Verlander  DET  SP  28000000        2013      2019      7\n",
      "..                ...  ...  ..       ...         ...       ...    ...\n",
      "863      Steve Selsky  BOS  RF    535000        2017      2017      1\n",
      "864     Stuart Turner  CIN   C    535000        2017      2017      1\n",
      "865    Vicente Campos  LAA  RP    535000        2017      2017      1\n",
      "866     Wandy Peralta  CIN  RP    535000        2017      2017      1\n",
      "867        Yandy Diaz  CLE  3B    535000        2017      2017      1\n",
      "\n",
      "[868 rows x 7 columns]\n"
     ]
    }
   ],
   "source": [
    "# fazendo leitura dos registros do banco\n",
    "dados = cursor.fetchall()\n",
    "colunas = [i[0] for i in cursor.description] #para ler quantas colunas tiverem\n",
    "df = pd.DataFrame(dados, columns=colunas)\n",
    "cursor.close()  #precisa fechar a conexao com banco de dados\n",
    "conexao.close()\n",
    "print(df)"
   ]
  }
 ],
 "metadata": {
  "kernelspec": {
   "display_name": "Python 3",
   "language": "python",
   "name": "python3"
  },
  "language_info": {
   "codemirror_mode": {
    "name": "ipython",
    "version": 3
   },
   "file_extension": ".py",
   "mimetype": "text/x-python",
   "name": "python",
   "nbconvert_exporter": "python",
   "pygments_lexer": "ipython3",
   "version": "3.12.0"
  }
 },
 "nbformat": 4,
 "nbformat_minor": 2
}
